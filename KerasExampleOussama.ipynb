{
  "nbformat": 4,
  "nbformat_minor": 0,
  "metadata": {
    "colab": {
      "name": "KerasExampleOussama.ipynb",
      "version": "0.3.2",
      "provenance": [],
      "include_colab_link": true
    },
    "kernelspec": {
      "name": "python3",
      "display_name": "Python 3"
    }
  },
  "cells": [
    {
      "cell_type": "markdown",
      "metadata": {
        "id": "view-in-github",
        "colab_type": "text"
      },
      "source": [
        "<a href=\"https://colab.research.google.com/github/SkanderHn/GeneralMLFun/blob/master/KerasExampleOussama.ipynb\" target=\"_parent\"><img src=\"https://colab.research.google.com/assets/colab-badge.svg\" alt=\"Open In Colab\"/></a>"
      ]
    },
    {
      "cell_type": "code",
      "metadata": {
        "id": "1pWw0SvR4YOp",
        "colab_type": "code",
        "outputId": "ceb83948-ec93-429c-e2a0-6cad8353f94b",
        "colab": {
          "base_uri": "https://localhost:8080/",
          "height": 34
        }
      },
      "source": [
        "#Import libraries\n",
        "from numpy import array\n",
        "from keras.models import Sequential\n",
        "from keras.layers import LSTM\n",
        "from keras.layers import Dense"
      ],
      "execution_count": 0,
      "outputs": [
        {
          "output_type": "stream",
          "text": [
            "Using TensorFlow backend.\n"
          ],
          "name": "stderr"
        }
      ]
    },
    {
      "cell_type": "code",
      "metadata": {
        "id": "f8Fma4cu4on0",
        "colab_type": "code",
        "colab": {}
      },
      "source": [
        "# split a univariate sequence into samples for training \n",
        "def split_sequence(sequence, n_steps):\n",
        "\tX, y = list(), list()\n",
        "\tfor i in range(len(sequence)):\n",
        "\t\t# find the end of this pattern\n",
        "\t\tend_ix = i + n_steps\n",
        "\t\t# check if we are beyond the sequence\n",
        "\t\tif end_ix > len(sequence)-1:\n",
        "\t\t\tbreak\n",
        "\t\t# gather input and output parts of the pattern\n",
        "\t\tseq_x, seq_y = sequence[i:end_ix], sequence[end_ix]\n",
        "\t\tX.append(seq_x)\n",
        "\t\ty.append(seq_y)\n",
        "\treturn array(X), array(y)"
      ],
      "execution_count": 0,
      "outputs": []
    },
    {
      "cell_type": "code",
      "metadata": {
        "id": "fG6UOmlB4tBk",
        "colab_type": "code",
        "colab": {}
      },
      "source": [
        "# define input sequence -- you should replace this with your input data, make sure you split your data into train and test \n",
        "# You can test your LSTM with different types of patterns \n",
        "#raw_seq = [10, 20, 30, 40, 50, 60, 70, 80, 90] -- This is a simple trend\n",
        "#raw_seq = [10, 0, 30, 20, 50, 40, 70, 60, 90, 80] -- This is a trend + a fluctuation \n",
        "raw_seq = [10, 0, 10, 0, 10, 0, 10, 0, 10, 0]  #This is a pure fluctuation\n",
        "# choose a number of time steps\n",
        "# Choose number of steps according the seasonal properties of your data, e.g for daily customer data, you should use 7 or 14 steps to capture the weekly cycle\n",
        "# For hourly data, choose 24 or 48 to capture hourly variations, etc.....\n",
        "n_steps = 4 \n",
        "# split into samples\n",
        "X, y = split_sequence(raw_seq, n_steps)\n",
        "# reshape from [samples, timesteps] into [samples, timesteps, features]\n",
        "n_features = 1\n",
        "X = X.reshape((X.shape[0], X.shape[1], n_features))"
      ],
      "execution_count": 0,
      "outputs": []
    },
    {
      "cell_type": "code",
      "metadata": {
        "colab_type": "code",
        "id": "RcnnYGMqERC0",
        "colab": {}
      },
      "source": [
        "# define your LSTM model\n",
        "model = Sequential()\n",
        "model.add(LSTM(50, activation='relu', return_sequences=True, input_shape=(n_steps,n_features)))\n",
        "model.add(LSTM(50, activation='relu'))\n",
        "model.add(Dense(1))\n",
        "model.compile(optimizer='adam', loss='mse')"
      ],
      "execution_count": 0,
      "outputs": []
    },
    {
      "cell_type": "code",
      "metadata": {
        "id": "7K5y-1lE4yRY",
        "colab_type": "code",
        "outputId": "8d56dea8-d347-4fe9-f4ce-afaad07b8edc",
        "colab": {
          "base_uri": "https://localhost:8080/",
          "height": 34
        }
      },
      "source": [
        "# fit/train model\n",
        "model.fit(X, y, epochs=10000, verbose=0)"
      ],
      "execution_count": 0,
      "outputs": [
        {
          "output_type": "execute_result",
          "data": {
            "text/plain": [
              "<keras.callbacks.History at 0x7f684cc94f28>"
            ]
          },
          "metadata": {
            "tags": []
          },
          "execution_count": 54
        }
      ]
    },
    {
      "cell_type": "code",
      "metadata": {
        "id": "Rdln7PRE40yZ",
        "colab_type": "code",
        "outputId": "e735cf2f-7a91-4563-9d23-170cc72236a2",
        "colab": {
          "base_uri": "https://localhost:8080/",
          "height": 34
        }
      },
      "source": [
        "# generate predictions\n",
        "x_input = array([10,0,10,0])\n",
        "x_input = x_input.reshape((1, n_steps, n_features))\n",
        "yhat = model.predict(x_input, verbose=0)\n",
        "print(yhat)"
      ],
      "execution_count": 0,
      "outputs": [
        {
          "output_type": "stream",
          "text": [
            "[[10.000001]]\n"
          ],
          "name": "stdout"
        }
      ]
    },
    {
      "cell_type": "code",
      "metadata": {
        "id": "-oLhYdqi9Tel",
        "colab_type": "code",
        "outputId": "f0f47db3-c2b1-46e8-ec97-9b8f2d769a93",
        "colab": {
          "base_uri": "https://localhost:8080/",
          "height": 34
        }
      },
      "source": [
        "# generate predictions\n",
        "x_input = array([0,10,0,10])\n",
        "x_input = x_input.reshape((1, n_steps, n_features))\n",
        "yhat = model.predict(x_input, verbose=0)\n",
        "print(yhat)"
      ],
      "execution_count": 0,
      "outputs": [
        {
          "output_type": "stream",
          "text": [
            "[[4.4703484e-08]]\n"
          ],
          "name": "stdout"
        }
      ]
    },
    {
      "cell_type": "code",
      "metadata": {
        "id": "txtkFYXl9Yqq",
        "colab_type": "code",
        "outputId": "14fca1da-0aa8-4e52-b2d5-41a2047fc333",
        "colab": {
          "base_uri": "https://localhost:8080/",
          "height": 34
        }
      },
      "source": [
        "# generate predictions\n",
        "x_input = array([0,9,1,11])\n",
        "x_input = x_input.reshape((1, n_steps, n_features))\n",
        "yhat = model.predict(x_input, verbose=0)\n",
        "print(yhat)"
      ],
      "execution_count": 0,
      "outputs": [
        {
          "output_type": "stream",
          "text": [
            "[[-0.29606178]]\n"
          ],
          "name": "stdout"
        }
      ]
    }
  ]
}